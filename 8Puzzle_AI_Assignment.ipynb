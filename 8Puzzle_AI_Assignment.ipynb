{
  "nbformat": 4,
  "nbformat_minor": 0,
  "metadata": {
    "colab": {
      "name": "8Puzzle_AI_Assignment.ipynb",
      "provenance": [],
      "collapsed_sections": []
    },
    "kernelspec": {
      "name": "python3",
      "display_name": "Python 3"
    }
  },
  "cells": [
    {
      "cell_type": "code",
      "metadata": {
        "id": "12jpvIwwQiyK"
      },
      "source": [
        "import numpy as np\r\n",
        "import copy\r\n",
        "import sys"
      ],
      "execution_count": null,
      "outputs": []
    },
    {
      "cell_type": "code",
      "metadata": {
        "id": "Lk9_vPF-_gA6"
      },
      "source": [
        "# Transforma a string em uma matriz, substituindo _ por 0\r\n",
        "def string_to_puzzle(str_puzzle):\r\n",
        "  l = [int(i) if i.isdigit() else 0 for i in str_puzzle]\r\n",
        "  m_puzzle = np.array(l).reshape((3,3))\r\n",
        "\r\n",
        "  return m_puzzle\r\n",
        "  \r\n",
        "# Transforma a matriz do puzzle em uma string\r\n",
        "def puzzle_to_string(puzzle_matrix):\r\n",
        "  puzzle_string = [str(x) if x > 0 else '_' for i in puzzle_matrix for x in i]\r\n",
        "  puzzle_string = ''.join(puzzle_string)\r\n",
        "\r\n",
        "  return puzzle_string"
      ],
      "execution_count": null,
      "outputs": []
    },
    {
      "cell_type": "code",
      "metadata": {
        "id": "VIbrz7FjkP0H"
      },
      "source": [
        "def distancia_de_hamming(stra,strb):\r\n",
        "  c = 0\r\n",
        "  for a,b in zip(stra,strb):\r\n",
        "    c += 1 if a != b else 0\r\n",
        "  return c\r\n",
        "\r\n",
        "def distancia_manhattan(pos1,pos2):\r\n",
        "  return abs(pos1[0] - pos2[0]) + abs(pos1[1] - pos2[1])"
      ],
      "execution_count": null,
      "outputs": []
    },
    {
      "cell_type": "code",
      "metadata": {
        "id": "dlV7adRgmqxo"
      },
      "source": [
        "def h1(state):\r\n",
        "  goal_state = \"12345678_\"\r\n",
        "  return distancia_de_hamming(state,goal_state)\r\n",
        "\r\n",
        "def h2(state):\r\n",
        "  s = 0\r\n",
        "  goal_state = \"12345678_\"\r\n",
        "  goal_matrix = string_to_puzzle(goal_state)\r\n",
        "  current_state = string_to_puzzle(state)\r\n",
        "\r\n",
        "  for number in goal_state:\r\n",
        "    number_ = int(number) if number != '_' else 0\r\n",
        "    numberpos_current_state = [x[0] for x in np.where(current_state == number_)]\r\n",
        "    numberpos_goal_state = [x[0] for x in np.where(goal_matrix == number_)]\r\n",
        "    \r\n",
        "    s += distancia_manhattan(numberpos_current_state,numberpos_goal_state)\r\n",
        "  \r\n",
        "  return s"
      ],
      "execution_count": null,
      "outputs": []
    },
    {
      "cell_type": "code",
      "metadata": {
        "id": "hYUKsN7TNO1e"
      },
      "source": [
        "class PuzzleNode:\r\n",
        "  def __init__(self, parent_node, state, action, cost, children_node_list = []):\r\n",
        "    self.parent_node = parent_node\r\n",
        "    self.state = state\r\n",
        "    self.action = action\r\n",
        "    self.cost = cost\r\n",
        "    self.children_node_list = children_node_list\r\n",
        "\r\n",
        "  def __str__(self):\r\n",
        "    return \"({0},{1},{2},{3})\".format(self.action, self.state, self.cost, self.parent_node.state)\r\n"
      ],
      "execution_count": null,
      "outputs": []
    },
    {
      "cell_type": "code",
      "metadata": {
        "id": "8CYXFdw2XfqK"
      },
      "source": [
        "def move(puzzle_state_matrix, direction):\r\n",
        "  puzzle_copy = puzzle_state_matrix.copy()\r\n",
        "  row_position, column_position = [x[0] for x in np.where(puzzle_copy == 0)]\r\n",
        "\r\n",
        "  if direction == \"acima\":\r\n",
        "     puzzle_copy[row_position, column_position], puzzle_copy[row_position - 1, column_position] = puzzle_copy[row_position - 1, column_position], puzzle_copy[row_position, column_position]\r\n",
        "     return puzzle_copy\r\n",
        "\r\n",
        "  if direction == \"abaixo\":\r\n",
        "    puzzle_copy[row_position, column_position], puzzle_copy[row_position + 1, column_position] = puzzle_copy[row_position + 1, column_position], puzzle_copy[row_position, column_position]\r\n",
        "    return puzzle_copy\r\n",
        "\r\n",
        "  if direction == \"esquerda\":\r\n",
        "    puzzle_copy[row_position, column_position - 1], puzzle_copy[row_position, column_position] = puzzle_copy[row_position, column_position], puzzle_copy[row_position, column_position - 1]\r\n",
        "    return puzzle_copy\r\n",
        "\r\n",
        "  if direction == \"direita\":\r\n",
        "    puzzle_copy[row_position, column_position + 1], puzzle_copy[row_position, column_position] = puzzle_copy[row_position, column_position], puzzle_copy[row_position, column_position + 1]\r\n",
        "    return puzzle_copy\r\n",
        "    \r\n",
        "  "
      ],
      "execution_count": null,
      "outputs": []
    },
    {
      "cell_type": "code",
      "metadata": {
        "id": "vQX76fQ3OcOs"
      },
      "source": [
        "def sucessor(puzzle_node):\r\n",
        "  puzzle_matrix = string_to_puzzle(puzzle_node)\r\n",
        "\r\n",
        "  row_position, column_position = [x[0] for x in np.where(puzzle_matrix == 0)]\r\n",
        "  available_positions = []\r\n",
        "\r\n",
        "  # Pode ir para cima\r\n",
        "  if row_position > 0:\r\n",
        "    new_position = (\"acima\", puzzle_to_string(move(puzzle_matrix, \"acima\")))\r\n",
        "    available_positions.append(new_position)\r\n",
        "\r\n",
        "  # Pode ir para baixo\r\n",
        "  if row_position < 2:\r\n",
        "    new_position = (\"abaixo\", puzzle_to_string(move(puzzle_matrix, \"abaixo\")))\r\n",
        "    available_positions.append(new_position)\r\n",
        "\r\n",
        "  # Pode ir para esquerda\r\n",
        "  if column_position > 0:\r\n",
        "    new_position = (\"esquerda\", puzzle_to_string(move(puzzle_matrix, \"esquerda\")))\r\n",
        "    available_positions.append(new_position)\r\n",
        "\r\n",
        "  # Pode ir para direita\r\n",
        "  if column_position < 2:\r\n",
        "    new_position = (\"direita\", puzzle_to_string(move(puzzle_matrix, \"direita\")))\r\n",
        "    available_positions.append(new_position)\r\n",
        "\r\n",
        "  return available_positions"
      ],
      "execution_count": null,
      "outputs": []
    },
    {
      "cell_type": "code",
      "metadata": {
        "id": "AjJ_dzhPPr1y"
      },
      "source": [
        "def expande(puzzle_node):\r\n",
        "  puzzle_children = []\r\n",
        "  children_tuple_list = sucessor(puzzle_node.state)\r\n",
        "\r\n",
        "  for action, state in children_tuple_list:\r\n",
        "    children_node = PuzzleNode(puzzle_node, state, action, puzzle_node.cost + 1)\r\n",
        "    puzzle_children.append(children_node)\r\n",
        "\r\n",
        "  return puzzle_children"
      ],
      "execution_count": null,
      "outputs": []
    },
    {
      "cell_type": "code",
      "metadata": {
        "id": "MU7varQ5mjZA"
      },
      "source": [
        "def avalia_bfs(initial_node):\r\n",
        "  queue = []\r\n",
        "  visited = set()\r\n",
        "  first_children_list = expande(initial_node)\r\n",
        "  queue += first_children_list\r\n",
        "\r\n",
        "  while queue:\r\n",
        "    current_node = queue.pop(0)\r\n",
        "    visited.add(current_node.state)\r\n",
        "\r\n",
        "    if current_node.state == \"12345678_\":\r\n",
        "      break\r\n",
        "\r\n",
        "    for n in expande(current_node):\r\n",
        "      if n.state not in visited:\r\n",
        "        queue.append(n)\r\n",
        "\r\n",
        "  node_path = []\r\n",
        "  while current_node.parent_node:\r\n",
        "    node_path.append(current_node.action)\r\n",
        "    current_node = current_node.parent_node  \r\n",
        "\r\n",
        "  node_path.reverse()\r\n",
        "\r\n",
        "  return node_path"
      ],
      "execution_count": null,
      "outputs": []
    },
    {
      "cell_type": "code",
      "metadata": {
        "id": "VwtML2ea1IRV"
      },
      "source": [
        "def avalia_dfs(initial_node):\r\n",
        "  queue = []\r\n",
        "  visited = set()\r\n",
        "  first_children_list = expande(initial_node)\r\n",
        "  queue += first_children_list\r\n",
        "\r\n",
        "  while queue:\r\n",
        "    current_node = queue.pop()\r\n",
        "    visited.add(current_node.state)\r\n",
        "\r\n",
        "    if current_node.state == \"12345678_\":\r\n",
        "      break\r\n",
        "\r\n",
        "    for n in expande(current_node):\r\n",
        "      if n.state not in visited:\r\n",
        "        queue.append(n)\r\n",
        "\r\n",
        "  node_path = []\r\n",
        "  while current_node.parent_node:\r\n",
        "    node_path.append(current_node.action)\r\n",
        "    current_node = current_node.parent_node  \r\n",
        "\r\n",
        "  print(len(node_path))\r\n",
        "  node_path.reverse()\r\n",
        "  return node_path"
      ],
      "execution_count": null,
      "outputs": []
    },
    {
      "cell_type": "code",
      "metadata": {
        "id": "ebIewLlZSaEF"
      },
      "source": [
        "def avalia_astar_h1(initial_node):\r\n",
        "  queue = []\r\n",
        "  visited = set()\r\n",
        "  first_children_list = expande(initial_node)\r\n",
        "\r\n",
        "  for n in first_children_list:\r\n",
        "    queue.append((n, h1(n.state)))\r\n",
        "\r\n",
        "  # Loop de busca\r\n",
        "  while queue:\r\n",
        "    min_index = queue.index(min(queue, key = lambda t : t[1])) # Posição do elemento na lista com menor f (custo + heurística)\r\n",
        "    current_node, f = queue.pop(min_index)\r\n",
        "\r\n",
        "    visited.add(current_node.state)\r\n",
        "\r\n",
        "    if current_node.state == \"12345678_\":\r\n",
        "      break\r\n",
        "\r\n",
        "    for n in expande(current_node):\r\n",
        "      if n.state not in visited:\r\n",
        "        queue.append((n, h1(n.state)))\r\n",
        "\r\n",
        "  node_path = []\r\n",
        "  while current_node.parent_node:\r\n",
        "    node_path.append(current_node.action)\r\n",
        "    current_node = current_node.parent_node  \r\n",
        "\r\n",
        "  node_path.reverse()\r\n",
        "  print(len(node_path))\r\n",
        "  \r\n",
        "  return node_path"
      ],
      "execution_count": null,
      "outputs": []
    },
    {
      "cell_type": "code",
      "metadata": {
        "id": "wXGfPyDeljiT"
      },
      "source": [
        "def avalia_astar_h2(initial_node):\r\n",
        "  queue = []\r\n",
        "  visited = set()\r\n",
        "  first_children_list = expande(initial_node)\r\n",
        "\r\n",
        "  for n in first_children_list:\r\n",
        "    queue.append((n, h2(n.state)))\r\n",
        "\r\n",
        "  # Loop de busca\r\n",
        "  while queue:\r\n",
        "    min_index = queue.index(min(queue, key = lambda t : t[1])) # Posição do elemento na lista com menor f (custo + heurística)\r\n",
        "    current_node, f = queue.pop(min_index)\r\n",
        "\r\n",
        "    visited.add(current_node.state)\r\n",
        "\r\n",
        "    if current_node.state == \"12345678_\":\r\n",
        "      break\r\n",
        "   \r\n",
        "    for n in expande(current_node):\r\n",
        "      if n.state not in visited:\r\n",
        "        queue.append((n, h2(n.state)))\r\n",
        "\r\n",
        "  node_path = []\r\n",
        "  while current_node.parent_node:\r\n",
        "    node_path.append(current_node.action)\r\n",
        "    current_node = current_node.parent_node  \r\n",
        "\r\n",
        "  node_path.reverse()\r\n",
        "  print(len(node_path))\r\n",
        "  \r\n",
        "  return node_path"
      ],
      "execution_count": null,
      "outputs": []
    },
    {
      "cell_type": "code",
      "metadata": {
        "id": "OuGEEBP9SwpW",
        "colab": {
          "base_uri": "https://localhost:8080/"
        },
        "outputId": "99425a6c-72ae-45fb-9b7c-37dbe4e34ae5"
      },
      "source": [
        "function_input = \"avalia_astar_h2\" # Equivale a sys.argv[1]\r\n",
        "state_input = \"2_3541687\" # Equivale a sys.argv[2]\r\n",
        "\r\n",
        "puzzle_node = PuzzleNode(None, state_input, \"\", 0)\r\n",
        "\r\n",
        "if function_input == \"avalia_sucessor\":\r\n",
        "  for st_tuple in sucessor(state_input):\r\n",
        "    print(\"({0},{1})\".format(st_tuple[0], st_tuple[1]), end=\" \") # Printa tupla estado-movimento\r\n",
        "\r\n",
        "elif function_input == \"avalia_expande\":\r\n",
        "  puzzle_node.cost = 0 # sys.argv[3]\r\n",
        "\r\n",
        "  for n in expande(puzzle_node):\r\n",
        "    print(n, end=\" \")\r\n",
        "\r\n",
        "elif function_input == \"avalia_bfs\":\r\n",
        "  print(' '.join(avalia_bfs(puzzle_node)))\r\n",
        "\r\n",
        "elif function_input == \"avalia_dfs\":\r\n",
        "  print(' '.join(avalia_dfs(puzzle_node)))\r\n",
        "\r\n",
        "elif function_input == \"avalia_astar_h1\":\r\n",
        "  print(' '.join(avalia_astar_h1(puzzle_node)))\r\n",
        "\r\n",
        "elif function_input == \"avalia_astar_h2\":\r\n",
        "  print(' '.join(avalia_astar_h2(puzzle_node)))"
      ],
      "execution_count": null,
      "outputs": [
        {
          "output_type": "stream",
          "text": [
            "45\n",
            "esquerda abaixo direita direita abaixo esquerda esquerda acima direita abaixo direita acima esquerda acima esquerda abaixo abaixo direita acima acima direita abaixo esquerda abaixo direita acima acima esquerda abaixo abaixo direita acima esquerda abaixo esquerda acima direita direita abaixo esquerda acima esquerda abaixo direita direita\n"
          ],
          "name": "stdout"
        }
      ]
    },
    {
      "cell_type": "code",
      "metadata": {
        "id": "qYxgioFBrez7"
      },
      "source": [
        "# function_input = sys.argv[1] # Função a ser executada\r\n",
        "# state_input = sys.argv[2] # Parâmetro para a função\r\n",
        "# puzzle_node = PuzzleNode(None, state_input, \"\", 0)\r\n",
        "\r\n",
        "# if function_input == \"avalia_sucessor\":\r\n",
        "#   for st_tuple in sucessor(state_input):\r\n",
        "#     print(\"({0},{1})\".format(st_tuple[0], st_tuple[1]), end=\" \") # Printa tupla estado-movimento\r\n",
        "\r\n",
        "# elif function_input == \"avalia_expande\":\r\n",
        "#   puzzle_node.cost = int(sys.argv[3])\r\n",
        "\r\n",
        "#   for n in expande(puzzle_node):\r\n",
        "#     print(n, end=\" \")\r\n",
        "\r\n",
        "# elif function_input == \"avalia_bfs\":\r\n",
        "#   print(' '.join(avalia_bfs(puzzle_node)))\r\n",
        "\r\n",
        "# elif function_input == \"avalia_dfs\":\r\n",
        "#   print(' '.join(avalia_dfs(puzzle_node)))\r\n",
        "\r\n",
        "# elif function_input == \"avalia_astar_h1\":\r\n",
        "#   print(' '.join(avalia_astar_h1(puzzle_node)))\r\n",
        "\r\n",
        "# elif function_input == \"avalia_astar_h2\":\r\n",
        "#   print(' '.join(avalia_astar_h2(puzzle_node)))"
      ],
      "execution_count": null,
      "outputs": []
    }
  ]
}